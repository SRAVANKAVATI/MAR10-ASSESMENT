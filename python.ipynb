{
 "cells": [
  {
   "cell_type": "markdown",
   "id": "d3cae93b",
   "metadata": {},
   "source": [
    "                                ##PYTHON SOLUTIONS"
   ]
  },
  {
   "cell_type": "code",
   "execution_count": 4,
   "id": "014d23d6",
   "metadata": {},
   "outputs": [
    {
     "name": "stdout",
     "output_type": "stream",
     "text": [
      "{'abc': ['def', 'ghi', 'jkl', 'mno', 'pqr', 'stu', 'vwx', 'yz'], 'def': ['ghi', 'jkl', 'mno', 'pqr', 'stu', 'vwx', 'yz'], 'ghi': ['jkl', 'mno', 'pqr', 'stu', 'vwx', 'yz'], 'jkl': ['mno', 'pqr', 'stu', 'vwx', 'yz'], 'mno': ['pqr', 'stu', 'vwx', 'yz'], 'pqr': ['stu', 'vwx', 'yz'], 'stu': ['vwx', 'yz'], 'vwx': ['yz'], 'yz': [], 'abc,def,ghi,jkl,mno,pqr,stu,vwx,yz': 'you are finally here !!!'}\n"
     ]
    }
   ],
   "source": [
    "##1.\n",
    "\n",
    "def new_dict(input_dict, prefix=None, result=None):\n",
    "    if prefix is None:\n",
    "        prefix = []\n",
    "    if result is None:\n",
    "        result = {}\n",
    "\n",
    "    for key, value in input_dict.items():\n",
    "        new_prefix = prefix + [key]\n",
    "        if isinstance(value, dict):\n",
    "            new_dict(value, new_prefix, result)\n",
    "        else:\n",
    "            result[tuple(new_prefix)] = value\n",
    "\n",
    "    return result\n",
    "\n",
    "def convert_to_output(input_dict):\n",
    "    flat_dict = new_dict(input_dict)\n",
    "    output = {}\n",
    "    for keys, value in flat_dict.items():\n",
    "        for i in range(len(keys)):\n",
    "            sub_keys = keys[i:]\n",
    "            if sub_keys[0] not in output:\n",
    "                output[sub_keys[0]] = []\n",
    "            output[sub_keys[0]].extend(sub_keys[1:])\n",
    "        output[\",\".join(keys)] = value\n",
    "    return output\n",
    "\n",
    "input_dict = {\"abc\":{\"def\":{\"ghi\":{\"jkl\":{\"mno\":{\"pqr\":{\"stu\":{\"vwx\":{\"yz\":\"you are finally here !!!\"}}}}}}}}}\n",
    "\n",
    "output = convert_to_output(input_dict)\n",
    "print(output)\n"
   ]
  },
  {
   "cell_type": "code",
   "execution_count": 5,
   "id": "f6da0063",
   "metadata": {},
   "outputs": [
    {
     "name": "stdout",
     "output_type": "stream",
     "text": [
      "Largest minimum distance: 3\n"
     ]
    }
   ],
   "source": [
    "##2.\n",
    "\n",
    "\n",
    "def horses_min_distance(stalls, k):\n",
    "    stalls.sort()  \n",
    "    low, high = 0, stalls[-1] - stalls[0]  \n",
    "\n",
    "    while low <= high:\n",
    "        mid = (low + high) // 2  \n",
    "        if is_possible(stalls, k, mid):\n",
    "            low = mid + 1  \n",
    "        else:\n",
    "            high = mid - 1  \n",
    "\n",
    "    return low - 1  \n",
    "\n",
    "def is_possible(stalls, k, min_dist):\n",
    "    horses_placed = 1\n",
    "    prev_stall = stalls[0]\n",
    "\n",
    "    for stall in stalls[1:]:\n",
    "        if stall - prev_stall >= min_dist:\n",
    "            horses_placed += 1\n",
    "            prev_stall = stall\n",
    "            if horses_placed == k:\n",
    "                return True\n",
    "\n",
    "    return False\n",
    "\n",
    "stalls = [1, 2, 4, 8, 9]\n",
    "k = 3\n",
    "largest_min_distance = horses_min_distance(stalls, k)\n",
    "print(\"Largest minimum distance:\", largest_min_distance)\n"
   ]
  },
  {
   "cell_type": "code",
   "execution_count": 7,
   "id": "a7836c07",
   "metadata": {},
   "outputs": [
    {
     "name": "stdout",
     "output_type": "stream",
     "text": [
      "---------.|.---------\n",
      "------.|..|..|.------\n",
      "---.|..|..|..|..|.---\n",
      "-------WELCOME-------\n",
      "---.|..|..|..|..|.---\n",
      "------.|..|..|.------\n",
      "---------.|.---------\n"
     ]
    }
   ],
   "source": [
    "##3.\n",
    "\n",
    "\n",
    "def print_mat(n, m):\n",
    "    for i in range(1, n, 2):\n",
    "        pattern = \".|.\" * i\n",
    "        print(pattern.center(m, '-'))\n",
    "\n",
    "    # Welcome message\n",
    "    print(\"WELCOME\".center(m, '-'))\n",
    "\n",
    "    # Lower part\n",
    "    for i in range(n-2, 0, -2):\n",
    "        pattern = \".|.\" * i\n",
    "        print(pattern.center(m, '-'))\n",
    "\n",
    "N = 7\n",
    "M = 3 * N\n",
    "\n",
    "print_mat(N, M)\n"
   ]
  },
  {
   "cell_type": "code",
   "execution_count": 9,
   "id": "459054b4",
   "metadata": {},
   "outputs": [
    {
     "name": "stdout",
     "output_type": "stream",
     "text": [
      "[[-2, -1, 1, 2], [-2, 0, 0, 2], [-1, 0, 0, 1]]\n"
     ]
    }
   ],
   "source": [
    "## 4.\n",
    "\n",
    "def AllSum(nums, target):\n",
    "    nums.sort()\n",
    "    result = []\n",
    "    n = len(nums)\n",
    "    \n",
    "    for i in range(n-3):\n",
    "        \n",
    "        if i > 0 and nums[i] == nums[i-1]:\n",
    "            continue\n",
    "        \n",
    "        for j in range(i+1, n-2):\n",
    "            \n",
    "            if j > i+1 and nums[j] == nums[j-1]:\n",
    "                continue\n",
    "            \n",
    "            left = j + 1\n",
    "            right = n - 1\n",
    "            \n",
    "            while left < right:\n",
    "                current_sum = nums[i] + nums[j] + nums[left] + nums[right]\n",
    "                \n",
    "                if current_sum == target:\n",
    "                    result.append([nums[i], nums[j], nums[left], nums[right]])\n",
    "                    \n",
    "                    \n",
    "                    while left < right and nums[left] == nums[left+1]:\n",
    "                        left += 1\n",
    "                    while left < right and nums[right] == nums[right-1]:\n",
    "                        right -= 1\n",
    "                    \n",
    "                    left += 1\n",
    "                    right -= 1\n",
    "                elif current_sum < target:\n",
    "                    left += 1\n",
    "                else:\n",
    "                    right -= 1\n",
    "    \n",
    "    return result\n",
    "\n",
    "\n",
    "nums = [1, 0, -1, 0, -2, 2]\n",
    "target = 0\n",
    "result = AllSum(nums, target)\n",
    "print(result)\n"
   ]
  },
  {
   "cell_type": "code",
   "execution_count": null,
   "id": "93391065",
   "metadata": {},
   "outputs": [],
   "source": []
  },
  {
   "cell_type": "code",
   "execution_count": null,
   "id": "2af0e607",
   "metadata": {},
   "outputs": [],
   "source": []
  },
  {
   "cell_type": "code",
   "execution_count": null,
   "id": "36603b69",
   "metadata": {},
   "outputs": [],
   "source": []
  },
  {
   "cell_type": "code",
   "execution_count": null,
   "id": "8e459615",
   "metadata": {},
   "outputs": [],
   "source": []
  },
  {
   "cell_type": "code",
   "execution_count": null,
   "id": "856ae561",
   "metadata": {},
   "outputs": [],
   "source": []
  },
  {
   "cell_type": "code",
   "execution_count": null,
   "id": "5f842f39",
   "metadata": {},
   "outputs": [],
   "source": []
  },
  {
   "cell_type": "code",
   "execution_count": null,
   "id": "5e80c9d0",
   "metadata": {},
   "outputs": [],
   "source": []
  },
  {
   "cell_type": "code",
   "execution_count": null,
   "id": "2050355d",
   "metadata": {},
   "outputs": [],
   "source": []
  },
  {
   "cell_type": "code",
   "execution_count": null,
   "id": "b48ffa75",
   "metadata": {},
   "outputs": [],
   "source": []
  },
  {
   "cell_type": "code",
   "execution_count": null,
   "id": "2da8857f",
   "metadata": {},
   "outputs": [],
   "source": []
  },
  {
   "cell_type": "code",
   "execution_count": null,
   "id": "fc6b5d40",
   "metadata": {},
   "outputs": [],
   "source": []
  },
  {
   "cell_type": "code",
   "execution_count": null,
   "id": "837764a4",
   "metadata": {},
   "outputs": [],
   "source": []
  }
 ],
 "metadata": {
  "kernelspec": {
   "display_name": "Python 3 (ipykernel)",
   "language": "python",
   "name": "python3"
  },
  "language_info": {
   "codemirror_mode": {
    "name": "ipython",
    "version": 3
   },
   "file_extension": ".py",
   "mimetype": "text/x-python",
   "name": "python",
   "nbconvert_exporter": "python",
   "pygments_lexer": "ipython3",
   "version": "3.11.3"
  }
 },
 "nbformat": 4,
 "nbformat_minor": 5
}
